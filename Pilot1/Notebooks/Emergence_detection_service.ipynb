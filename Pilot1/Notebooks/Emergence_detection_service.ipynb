{
 "cells": [
  {
   "cell_type": "markdown",
   "id": "49ce3159",
   "metadata": {},
   "source": [
    "### Installing openEO client libraries\n",
    "\n",
    "To use openEO, you need to make sure that the openEO client libraries are installed. The library is available on pypi, so it can be installed with pip: \n",
    "https://pypi.org/project/openeo/\n",
    "\n",
    "We recommend using at least Python 3.6 so in the notebook environment, the install command is:"
   ]
  },
  {
   "cell_type": "code",
   "execution_count": 1,
   "id": "7fa5e952",
   "metadata": {},
   "outputs": [
    {
     "name": "stdout",
     "output_type": "stream",
     "text": [
      "Looking in indexes: https://artifactory.vgt.vito.be/api/pypi/python-packages/simple\n",
      "Requirement already satisfied: openeo in /home/bontek/.local/lib/python3.6/site-packages (0.4.9)\n",
      "Requirement already satisfied: requests in /home/bontek/.local/lib/python3.6/site-packages (from openeo) (2.26.0)\n",
      "Requirement already satisfied: deprecated in /usr/local/lib64/python3.6/site-packages (from openeo) (1.2.13)\n",
      "Requirement already satisfied: pandas>0.20.0; python_version >= \"3.5.3\" in /usr/local/lib64/python3.6/site-packages (from openeo) (0.25.1)\n",
      "Requirement already satisfied: numpy>=1.17.0 in /usr/local/lib64/python3.6/site-packages (from openeo) (1.17.1)\n",
      "Requirement already satisfied: shapely>=1.6.4 in /usr/local/lib64/python3.6/site-packages (from openeo) (1.6.4.post2)\n",
      "Requirement already satisfied: requests-mock in /home/bontek/.local/lib/python3.6/site-packages (from openeo) (1.9.3)\n",
      "Requirement already satisfied: certifi>=2017.4.17 in /usr/local/lib/python3.6/site-packages (from requests->openeo) (2019.6.16)\n",
      "Requirement already satisfied: urllib3<1.27,>=1.21.1 in /home/bontek/.local/lib/python3.6/site-packages (from requests->openeo) (1.26.7)\n",
      "Requirement already satisfied: idna<4,>=2.5; python_version >= \"3\" in /usr/local/lib/python3.6/site-packages (from requests->openeo) (2.8)\n",
      "Requirement already satisfied: charset-normalizer~=2.0.0; python_version >= \"3\" in /home/bontek/.local/lib/python3.6/site-packages (from requests->openeo) (2.0.9)\n",
      "Requirement already satisfied: wrapt<2,>=1.10 in /usr/local/lib64/python3.6/site-packages (from deprecated->openeo) (1.11.2)\n",
      "Requirement already satisfied: pytz>=2017.2 in /usr/local/lib/python3.6/site-packages (from pandas>0.20.0; python_version >= \"3.5.3\"->openeo) (2019.2)\n",
      "Requirement already satisfied: python-dateutil>=2.6.1 in /home/bontek/.local/lib/python3.6/site-packages (from pandas>0.20.0; python_version >= \"3.5.3\"->openeo) (2.7.5)\n",
      "Requirement already satisfied: six in /usr/local/lib/python3.6/site-packages (from requests-mock->openeo) (1.12.0)\n",
      "\u001b[33mWARNING: You are using pip version 19.3.1; however, version 21.3.1 is available.\n",
      "You should consider upgrading via the 'pip install --upgrade pip' command.\u001b[0m\n"
     ]
    }
   ],
   "source": [
    "!pip3.6 install --user openeo"
   ]
  },
  {
   "cell_type": "code",
   "execution_count": 2,
   "id": "ef4c18b4",
   "metadata": {},
   "outputs": [],
   "source": [
    "## loading of the required functions \n",
    "\n",
    "import openeo\n",
    "import json\n",
    "import os\n",
    "import geopandas as gpd\n",
    "import pandas as pd"
   ]
  },
  {
   "cell_type": "markdown",
   "id": "41259dd8",
   "metadata": {},
   "source": [
    "### Create openeo session"
   ]
  },
  {
   "cell_type": "code",
   "execution_count": 3,
   "id": "746c2cec",
   "metadata": {},
   "outputs": [
    {
     "data": {
      "text/plain": [
       "<Connection to 'http://openeo-dev.vgt.vito.be/openeo/1.0.0' with BearerAuth>"
      ]
     },
     "execution_count": 3,
     "metadata": {},
     "output_type": "execute_result"
    }
   ],
   "source": [
    "endpoint = os.environ.get(\"ENDPOINT\", \"http://openeo-dev.vgt.vito.be\")\n",
    "openeo_url = \"{e}/openeo/{v}\".format(e=endpoint, v=\"1.0.0\")\n",
    "openeo_user= os.environ.get('OPENEO_USER', os.environ['USER'])  #  your Terrascope username\n",
    "openeo_pass= os.environ.get('OPENEO_PASS', os.environ['USER'] + '123') # replace user with your Terrascope username\n",
    "### INFO on authentication in Openeo can be found here: https://open-eo.github.io/openeo-python-client/auth.html\n",
    "session = openeo.connect(openeo_url)\n",
    "session.authenticate_basic(openeo_user, openeo_pass)"
   ]
  },
  {
   "cell_type": "markdown",
   "id": "293e07e0",
   "metadata": {},
   "source": [
    "### Description on how to use the emergence detection service\n",
    "\n",
    "### Summary\n",
    "Predicts the emergence date(s) for each input field in the dataset. \n",
    "The detection method is purely based on S1 (Sentinel-1) data. All the possible emergence dates for the given \n",
    "time range are provided per field in JSON format. The developed method makes use some of some rules \n",
    "one the S1 timeseries profile to derive emergence moments. \n",
    "\n",
    "\n",
    "### Required parameters\n",
    "\n",
    "* **date**: The period for which satellite data should be retrieved and used to estimate emergence date(s)\n",
    "  * e.g. \"2017-01-01\",\"2019-12-31\".  \n",
    "* **polygon**: Featurecollection of polygons for which emergence should be estimated\n",
    "\n",
    "### Output\n",
    "The output of the service is a JSON object with all the emergence date(s) that are detected for each field. \n",
    "The fields are called in terms of order in the input FeatureCollection \n",
    "e.g. Field_0 -> The first field in the input  FeatureCollection\n",
    "\n",
    "\n",
    "\n",
    "### Disclaimer:\n",
    "Requesting in NRT (near real-time) is not recommended getting emergence dates.\n",
    "This is because the emergence date is searched by looking if a peak in backscatter happens after it or not. \n",
    "Therefore, one should consider a period of about 2 months after the actual emergence date to get a more robust result.\n",
    "Furthermore, one should take into account that this method is only based on radar signal so for some croptypes\n",
    "the result might be less good or during off-season it might be that falsely emergence is detected. \n",
    "\n",
    "Also please use as input time range at least a period of about 12 months to get valid results. "
   ]
  },
  {
   "cell_type": "code",
   "execution_count": 4,
   "id": "d44110df",
   "metadata": {},
   "outputs": [
    {
     "name": "stderr",
     "output_type": "stream",
     "text": [
      "/home/bontek/.local/lib/python3.6/site-packages/openeo/metadata.py:219: UserWarning: No cube:dimensions metadata\n",
      "  complain(\"No cube:dimensions metadata\")\n"
     ]
    },
    {
     "name": "stdout",
     "output_type": "stream",
     "text": [
      "0:00:00 Job '6d7593ac-74da-43e8-9393-c85f02d3bb9c': queued (progress N/A)\n",
      "0:00:05.049947 Job '6d7593ac-74da-43e8-9393-c85f02d3bb9c': queued (progress N/A)\n",
      "0:00:11.385480 Job '6d7593ac-74da-43e8-9393-c85f02d3bb9c': queued (progress N/A)\n",
      "0:00:19.244012 Job '6d7593ac-74da-43e8-9393-c85f02d3bb9c': queued (progress N/A)\n",
      "0:00:29.120852 Job '6d7593ac-74da-43e8-9393-c85f02d3bb9c': queued (progress N/A)\n",
      "0:00:41.379564 Job '6d7593ac-74da-43e8-9393-c85f02d3bb9c': queued (progress N/A)\n",
      "0:00:56.730983 Job '6d7593ac-74da-43e8-9393-c85f02d3bb9c': queued (progress N/A)\n",
      "0:01:15.928817 Job '6d7593ac-74da-43e8-9393-c85f02d3bb9c': queued (progress N/A)\n",
      "0:01:39.833342 Job '6d7593ac-74da-43e8-9393-c85f02d3bb9c': running (progress N/A)\n",
      "0:02:09.763573 Job '6d7593ac-74da-43e8-9393-c85f02d3bb9c': running (progress N/A)\n",
      "0:02:47.086440 Job '6d7593ac-74da-43e8-9393-c85f02d3bb9c': running (progress N/A)\n",
      "0:03:33.798962 Job '6d7593ac-74da-43e8-9393-c85f02d3bb9c': finished (progress N/A)\n"
     ]
    }
   ],
   "source": [
    "# Define input parameters\n",
    " \n",
    "time_range = \"2019-01-31\", \"2019-12-31\"\n",
    "geom_path = \"/data/users/Public/bontek/e_shape/Notebooks/test_fields/test_fields_WIG2019.shp\" #the location were the input geometries are stored on the Public Terrascope drive\n",
    "gpd_shp = gpd.read_file(geom_path)\n",
    "js_shp = json.loads(gpd_shp.to_json()) # the way the data should be loaded and send to the service     \n",
    "\n",
    "Emergence_process = session.datacube_from_process(\"Emergence_detection_S1_only\", namespace=\"vito\", date=time_range ,polygon = js_shp) #create the process graph for the service\n",
    "\n",
    "\n",
    "#print(Emergence_process.graph)\n",
    "\n",
    "\n",
    "# Obtain result\n",
    "\n",
    "### option 1 -> When executing for many fields over a long time period (do asynchronous call)\n",
    "Emergence_result = Emergence_process.send_job().start_and_wait().get_result().load_json() #The result of the emergence prediction will be returned once the job for the service is finished\n",
    "\n",
    "### option 2 -> When executing for only few fields and for a short time period, a synchronous call can be done which is quite fast\n",
    "\n",
    "#Emergence_result = Emergence_process.execute()\n",
    "\n"
   ]
  },
  {
   "cell_type": "markdown",
   "id": "c17d4456",
   "metadata": {},
   "source": [
    "### Store the output result\n",
    "\n"
   ]
  },
  {
   "cell_type": "code",
   "execution_count": 5,
   "id": "6668f313",
   "metadata": {},
   "outputs": [
    {
     "name": "stdout",
     "output_type": "stream",
     "text": [
      "        Emergence_date_0 Emergence_date_1\n",
      "Field_0       2019-05-02       2019-09-04\n",
      "Field_1       2019-05-10       2019-08-22\n",
      "Field_2       2019-04-27             None\n"
     ]
    }
   ],
   "source": [
    "df_emerg_result = pd.DataFrame.from_dict(Emergence_result)\n",
    "print(df_emerg_result)\n",
    "df_emerg_result.to_csv('Emerg_result.csv', index = True) # This stores the CSV file in the same folder as the notebook is stored"
   ]
  }
 ],
 "metadata": {
  "kernelspec": {
   "display_name": "python36",
   "language": "python",
   "name": "python36"
  },
  "language_info": {
   "codemirror_mode": {
    "name": "ipython",
    "version": 3
   },
   "file_extension": ".py",
   "mimetype": "text/x-python",
   "name": "python",
   "nbconvert_exporter": "python",
   "pygments_lexer": "ipython3",
   "version": "3.6.8"
  }
 },
 "nbformat": 4,
 "nbformat_minor": 5
}
